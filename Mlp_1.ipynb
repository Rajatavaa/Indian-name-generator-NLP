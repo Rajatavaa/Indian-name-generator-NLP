{
 "cells": [
  {
   "cell_type": "code",
   "execution_count": 1,
   "metadata": {},
   "outputs": [],
   "source": [
    "import torch\n",
    "import pandas as pd\n",
    "import matplotlib.pyplot as plt\n",
    "import pypdf\n",
    "import torch.nn.functional as F\n",
    "import numpy as np\n",
    "import os"
   ]
  },
  {
   "cell_type": "code",
   "execution_count": 2,
   "metadata": {},
   "outputs": [
    {
     "data": {
      "text/html": [
       "<div>\n",
       "<style scoped>\n",
       "    .dataframe tbody tr th:only-of-type {\n",
       "        vertical-align: middle;\n",
       "    }\n",
       "\n",
       "    .dataframe tbody tr th {\n",
       "        vertical-align: top;\n",
       "    }\n",
       "\n",
       "    .dataframe thead th {\n",
       "        text-align: right;\n",
       "    }\n",
       "</style>\n",
       "<table border=\"1\" class=\"dataframe\">\n",
       "  <thead>\n",
       "    <tr style=\"text-align: right;\">\n",
       "      <th></th>\n",
       "      <th>name</th>\n",
       "      <th>race</th>\n",
       "    </tr>\n",
       "  </thead>\n",
       "  <tbody>\n",
       "    <tr>\n",
       "      <th>0</th>\n",
       "      <td>barjraj</td>\n",
       "      <td>indian</td>\n",
       "    </tr>\n",
       "    <tr>\n",
       "      <th>1</th>\n",
       "      <td>ramdin verma</td>\n",
       "      <td>indian</td>\n",
       "    </tr>\n",
       "    <tr>\n",
       "      <th>2</th>\n",
       "      <td>sharat chandran</td>\n",
       "      <td>indian</td>\n",
       "    </tr>\n",
       "    <tr>\n",
       "      <th>3</th>\n",
       "      <td>birender mandal</td>\n",
       "      <td>indian</td>\n",
       "    </tr>\n",
       "    <tr>\n",
       "      <th>4</th>\n",
       "      <td>amit</td>\n",
       "      <td>indian</td>\n",
       "    </tr>\n",
       "    <tr>\n",
       "      <th>...</th>\n",
       "      <td>...</td>\n",
       "      <td>...</td>\n",
       "    </tr>\n",
       "    <tr>\n",
       "      <th>14840</th>\n",
       "      <td>buddha</td>\n",
       "      <td>indian</td>\n",
       "    </tr>\n",
       "    <tr>\n",
       "      <th>14841</th>\n",
       "      <td>mukesh</td>\n",
       "      <td>indian</td>\n",
       "    </tr>\n",
       "    <tr>\n",
       "      <th>14842</th>\n",
       "      <td>monu</td>\n",
       "      <td>indian</td>\n",
       "    </tr>\n",
       "    <tr>\n",
       "      <th>14843</th>\n",
       "      <td>govind prasad shahu</td>\n",
       "      <td>indian</td>\n",
       "    </tr>\n",
       "    <tr>\n",
       "      <th>14844</th>\n",
       "      <td>deepak</td>\n",
       "      <td>indian</td>\n",
       "    </tr>\n",
       "  </tbody>\n",
       "</table>\n",
       "<p>14845 rows × 2 columns</p>\n",
       "</div>"
      ],
      "text/plain": [
       "                      name    race\n",
       "0                  barjraj  indian\n",
       "1             ramdin verma  indian\n",
       "2          sharat chandran  indian\n",
       "3          birender mandal  indian\n",
       "4                     amit  indian\n",
       "...                    ...     ...\n",
       "14840               buddha  indian\n",
       "14841               mukesh  indian\n",
       "14842                 monu  indian\n",
       "14843  govind prasad shahu  indian\n",
       "14844               deepak  indian\n",
       "\n",
       "[14845 rows x 2 columns]"
      ]
     },
     "execution_count": 2,
     "metadata": {},
     "output_type": "execute_result"
    }
   ],
   "source": [
    "df = pd.read_csv(r'C:\\Users\\Rick\\lulu\\Indian-Male-Names.csv',index_col=False)\n",
    "df = df.drop('gender',axis = 1)\n",
    "df"
   ]
  },
  {
   "cell_type": "code",
   "execution_count": 7,
   "metadata": {},
   "outputs": [
    {
     "data": {
      "text/html": [
       "<div>\n",
       "<style scoped>\n",
       "    .dataframe tbody tr th:only-of-type {\n",
       "        vertical-align: middle;\n",
       "    }\n",
       "\n",
       "    .dataframe tbody tr th {\n",
       "        vertical-align: top;\n",
       "    }\n",
       "\n",
       "    .dataframe thead th {\n",
       "        text-align: right;\n",
       "    }\n",
       "</style>\n",
       "<table border=\"1\" class=\"dataframe\">\n",
       "  <thead>\n",
       "    <tr style=\"text-align: right;\">\n",
       "      <th></th>\n",
       "      <th>name</th>\n",
       "      <th>race</th>\n",
       "    </tr>\n",
       "  </thead>\n",
       "  <tbody>\n",
       "    <tr>\n",
       "      <th>0</th>\n",
       "      <td>shivani</td>\n",
       "      <td>indian</td>\n",
       "    </tr>\n",
       "    <tr>\n",
       "      <th>1</th>\n",
       "      <td>isha</td>\n",
       "      <td>indian</td>\n",
       "    </tr>\n",
       "    <tr>\n",
       "      <th>2</th>\n",
       "      <td>smt shyani devi</td>\n",
       "      <td>indian</td>\n",
       "    </tr>\n",
       "    <tr>\n",
       "      <th>3</th>\n",
       "      <td>divya</td>\n",
       "      <td>indian</td>\n",
       "    </tr>\n",
       "    <tr>\n",
       "      <th>4</th>\n",
       "      <td>mansi</td>\n",
       "      <td>indian</td>\n",
       "    </tr>\n",
       "    <tr>\n",
       "      <th>...</th>\n",
       "      <td>...</td>\n",
       "      <td>...</td>\n",
       "    </tr>\n",
       "    <tr>\n",
       "      <th>15377</th>\n",
       "      <td>saroj devi</td>\n",
       "      <td>indian</td>\n",
       "    </tr>\n",
       "    <tr>\n",
       "      <th>15378</th>\n",
       "      <td>naina @ geeta</td>\n",
       "      <td>indian</td>\n",
       "    </tr>\n",
       "    <tr>\n",
       "      <th>15379</th>\n",
       "      <td>manju d/0 baboo lal jatav</td>\n",
       "      <td>indian</td>\n",
       "    </tr>\n",
       "    <tr>\n",
       "      <th>15380</th>\n",
       "      <td>shivani</td>\n",
       "      <td>indian</td>\n",
       "    </tr>\n",
       "    <tr>\n",
       "      <th>15381</th>\n",
       "      <td>nayna</td>\n",
       "      <td>indian</td>\n",
       "    </tr>\n",
       "  </tbody>\n",
       "</table>\n",
       "<p>15382 rows × 2 columns</p>\n",
       "</div>"
      ],
      "text/plain": [
       "                            name    race\n",
       "0                        shivani  indian\n",
       "1                           isha  indian\n",
       "2                smt shyani devi  indian\n",
       "3                          divya  indian\n",
       "4                          mansi  indian\n",
       "...                          ...     ...\n",
       "15377                 saroj devi  indian\n",
       "15378              naina @ geeta  indian\n",
       "15379  manju d/0 baboo lal jatav  indian\n",
       "15380                    shivani  indian\n",
       "15381                      nayna  indian\n",
       "\n",
       "[15382 rows x 2 columns]"
      ]
     },
     "execution_count": 7,
     "metadata": {},
     "output_type": "execute_result"
    }
   ],
   "source": [
    "dy = pd.read_csv(r'C:\\Users\\Rick\\lulu\\Indian-Female-Names.csv',index_col=False)\n",
    "dy = dy.drop('gender',axis = 1)\n",
    "dy"
   ]
  },
  {
   "cell_type": "code",
   "execution_count": 5,
   "metadata": {},
   "outputs": [],
   "source": [
    "df = df.drop('race',axis = 1)\n"
   ]
  },
  {
   "cell_type": "code",
   "execution_count": 8,
   "metadata": {},
   "outputs": [],
   "source": [
    "dy = dy.drop('race',axis = 1)\n"
   ]
  },
  {
   "cell_type": "code",
   "execution_count": 9,
   "metadata": {},
   "outputs": [
    {
     "data": {
      "text/html": [
       "<div>\n",
       "<style scoped>\n",
       "    .dataframe tbody tr th:only-of-type {\n",
       "        vertical-align: middle;\n",
       "    }\n",
       "\n",
       "    .dataframe tbody tr th {\n",
       "        vertical-align: top;\n",
       "    }\n",
       "\n",
       "    .dataframe thead th {\n",
       "        text-align: right;\n",
       "    }\n",
       "</style>\n",
       "<table border=\"1\" class=\"dataframe\">\n",
       "  <thead>\n",
       "    <tr style=\"text-align: right;\">\n",
       "      <th></th>\n",
       "      <th>name</th>\n",
       "    </tr>\n",
       "  </thead>\n",
       "  <tbody>\n",
       "    <tr>\n",
       "      <th>0</th>\n",
       "      <td>shivani</td>\n",
       "    </tr>\n",
       "    <tr>\n",
       "      <th>1</th>\n",
       "      <td>isha</td>\n",
       "    </tr>\n",
       "    <tr>\n",
       "      <th>2</th>\n",
       "      <td>smt shyani devi</td>\n",
       "    </tr>\n",
       "    <tr>\n",
       "      <th>3</th>\n",
       "      <td>divya</td>\n",
       "    </tr>\n",
       "    <tr>\n",
       "      <th>4</th>\n",
       "      <td>mansi</td>\n",
       "    </tr>\n",
       "    <tr>\n",
       "      <th>...</th>\n",
       "      <td>...</td>\n",
       "    </tr>\n",
       "    <tr>\n",
       "      <th>15377</th>\n",
       "      <td>saroj devi</td>\n",
       "    </tr>\n",
       "    <tr>\n",
       "      <th>15378</th>\n",
       "      <td>naina @ geeta</td>\n",
       "    </tr>\n",
       "    <tr>\n",
       "      <th>15379</th>\n",
       "      <td>manju d/0 baboo lal jatav</td>\n",
       "    </tr>\n",
       "    <tr>\n",
       "      <th>15380</th>\n",
       "      <td>shivani</td>\n",
       "    </tr>\n",
       "    <tr>\n",
       "      <th>15381</th>\n",
       "      <td>nayna</td>\n",
       "    </tr>\n",
       "  </tbody>\n",
       "</table>\n",
       "<p>15382 rows × 1 columns</p>\n",
       "</div>"
      ],
      "text/plain": [
       "                            name\n",
       "0                        shivani\n",
       "1                           isha\n",
       "2                smt shyani devi\n",
       "3                          divya\n",
       "4                          mansi\n",
       "...                          ...\n",
       "15377                 saroj devi\n",
       "15378              naina @ geeta\n",
       "15379  manju d/0 baboo lal jatav\n",
       "15380                    shivani\n",
       "15381                      nayna\n",
       "\n",
       "[15382 rows x 1 columns]"
      ]
     },
     "execution_count": 9,
     "metadata": {},
     "output_type": "execute_result"
    }
   ],
   "source": [
    "dy"
   ]
  },
  {
   "cell_type": "code",
   "execution_count": 6,
   "metadata": {},
   "outputs": [],
   "source": [
    "df = df.drop_duplicates()"
   ]
  },
  {
   "cell_type": "code",
   "execution_count": 10,
   "metadata": {},
   "outputs": [],
   "source": [
    "dy = dy.drop_duplicates()"
   ]
  },
  {
   "cell_type": "code",
   "execution_count": 7,
   "metadata": {},
   "outputs": [],
   "source": [
    "df.to_csv('Names_to_train.txt', index=False, header=False)"
   ]
  },
  {
   "cell_type": "code",
   "execution_count": 12,
   "metadata": {},
   "outputs": [],
   "source": [
    "dy.to_csv('Female_Names_to_train.txt', index=False, header=False)"
   ]
  },
  {
   "cell_type": "code",
   "execution_count": 2,
   "metadata": {},
   "outputs": [],
   "source": [
    "char_to_rem = '/\\\\`0123456789@.,;}-()&\"$+:[]{}' + 'अआइईउऊएऐओऔऋअंकखगघड़चछजझञटठडढणतथदधनपफबभमयरलवशषसह' + 'ा' + 'ि' + 'ी' + 'ु' + 'ू' + 'े' + 'ो' + '्' + '\\u200d' + '�' + 'ì'+ 'ै'\n",
    "\n",
    "def clean_char(name_of_folder):\n",
    "    with open(name_of_folder, \"r\", encoding='utf-8') as f:\n",
    "        content = f.read()\n",
    "    cleaned_text = ''.join(char for char in content if char not in char_to_rem)\n",
    "    \n",
    "    # Split into lines\n",
    "    lines = cleaned_text.splitlines()  \n",
    "    processed_lines = []\n",
    "    \n",
    "    for line in lines:\n",
    "        words = line.splitlines()  # Split words on whitespace\n",
    "        if words:\n",
    "            processed_lines.extend(words)  # Append each word separately\n",
    "\n",
    "    # Join words with a newline character\n",
    "    final_output = '\\n'.join(processed_lines)\n",
    "    \n",
    "    with open(\"Names_to_train.txt\", \"w\", encoding='utf-8') as f:\n",
    "        f.write(final_output)\n",
    "\n",
    "# Call the function with the appropriate file name\n",
    "clean_char(\"Names_to_train.txt\")\n"
   ]
  },
  {
   "cell_type": "code",
   "execution_count": 7,
   "metadata": {},
   "outputs": [
    {
     "name": "stdout",
     "output_type": "stream",
     "text": [
      "Files have been successfully joined into cleaned_dataset.txt.\n"
     ]
    }
   ],
   "source": [
    "import random\n",
    "def read_file(file_path):\n",
    "    with open(file_path, 'r') as file:\n",
    "        return file.read()  # Read the entire content\n",
    "\n",
    "# Function to write combined content to a new file\n",
    "def write_to_file(file_path, content):\n",
    "    with open(file_path, 'w') as file:\n",
    "        file.write(content)  # Write content to the output file\n",
    "\n",
    "# Paths to your text files\n",
    "file1_path = 'Names_to_train.txt'\n",
    "file2_path = 'Female_Names_to_train.txt'\n",
    "output_file_path = 'cleaned_dataset.txt'\n",
    "\n",
    "# Read both files\n",
    "text1 = read_file(file1_path)\n",
    "text2 = read_file(file2_path)\n",
    "\n",
    "# Combine the contents of both files\n",
    "combined_text = text1 + '\\n' + text2  # Add a newline between the two files\n",
    "text_list = combined_text.splitlines()\n",
    "random.shuffle(text_list)\n",
    "shuffled_text = '\\n'.join(text_list)\n",
    "# Write the combined content to the output file\n",
    "write_to_file(output_file_path, shuffled_text)\n",
    "\n",
    "print(f\"Files have been successfully joined into {output_file_path}.\")\n"
   ]
  },
  {
   "cell_type": "code",
   "execution_count": 2,
   "metadata": {},
   "outputs": [
    {
     "name": "stdout",
     "output_type": "stream",
     "text": [
      "{1: ' ', 2: 'a', 3: 'b', 4: 'c', 5: 'd', 6: 'e', 7: 'f', 8: 'g', 9: 'h', 10: 'i', 11: 'j', 12: 'k', 13: 'l', 14: 'm', 15: 'n', 16: 'o', 17: 'p', 18: 'q', 19: 'r', 20: 's', 21: 't', 22: 'u', 23: 'v', 24: 'w', 25: 'x', 26: 'y', 27: 'z', 0: '.'}\n"
     ]
    }
   ],
   "source": [
    "with open('cleaned_dataset.txt','r',encoding='utf-8')as f:\n",
    "    words = f.read()\n",
    "    words = words.lower()\n",
    "    words = words.splitlines()\n",
    "chars = sorted(list(set(''.join(words))))\n",
    "stoi = {s:i+1 for i,s in enumerate(chars)}\n",
    "stoi['.'] = 0\n",
    "itos = {i:s for s,i in stoi.items()}\n",
    "print(itos)"
   ]
  },
  {
   "cell_type": "code",
   "execution_count": 3,
   "metadata": {},
   "outputs": [],
   "source": [
    "block_size = 3 \n",
    "X, Y = [], []\n",
    "for w in words:\n",
    "  #print(w)\n",
    "  \n",
    "  context = [0] * block_size\n",
    "  for ch in w + '.':\n",
    "    ix = stoi[ch]\n",
    "    X.append(context)\n",
    "    Y.append(ix)\n",
    "    #print(''.join(itos[i] for i in context), '--->', itos[ix])\n",
    "    context = context[1:] + [ix] # crop and append\n",
    "  \n",
    "X = torch.tensor(X)\n",
    "Y = torch.tensor(Y)"
   ]
  },
  {
   "cell_type": "code",
   "execution_count": 4,
   "metadata": {},
   "outputs": [],
   "source": [
    "from sklearn.model_selection import train_test_split\n",
    "X_train, X_test, y_train, y_test = train_test_split(\n",
    "    X, Y, test_size=0.1, random_state=42)"
   ]
  },
  {
   "cell_type": "code",
   "execution_count": 21,
   "metadata": {},
   "outputs": [],
   "source": [
    "generator = torch.manual_seed(6)\n",
    "C = torch.randn(28,10)\n",
    "w1= torch.randn((30,500)) * 0.01\n",
    "b1 = torch.randn(500) * 0.01\n",
    "w2 = torch.randn((500,200)) * 0.01\n",
    "b2 = torch.randn(200) * 0.01\n",
    "w3 = torch.randn(200,28)\n",
    "b3 = torch.randn(28)\n",
    "parameters = [C, w1, b1, w2, b2, w3, b3]"
   ]
  },
  {
   "cell_type": "code",
   "execution_count": 22,
   "metadata": {},
   "outputs": [],
   "source": [
    "for p in parameters:\n",
    "  p.requires_grad = True"
   ]
  },
  {
   "cell_type": "code",
   "execution_count": 23,
   "metadata": {},
   "outputs": [
    {
     "data": {
      "text/plain": [
       "121608"
      ]
     },
     "execution_count": 23,
     "metadata": {},
     "output_type": "execute_result"
    }
   ],
   "source": [
    "sum(p.nelement() for p in parameters)"
   ]
  },
  {
   "cell_type": "code",
   "execution_count": 66,
   "metadata": {},
   "outputs": [],
   "source": [
    "lre = torch.linspace(-2, 0, 100)\n",
    "lrs = 10**lre"
   ]
  },
  {
   "cell_type": "code",
   "execution_count": 7,
   "metadata": {},
   "outputs": [],
   "source": [
    "lri = []\n",
    "lossi = []\n",
    "stepi = []"
   ]
  },
  {
   "cell_type": "code",
   "execution_count": 27,
   "metadata": {},
   "outputs": [
    {
     "name": "stdout",
     "output_type": "stream",
     "text": [
      "Step 0, Loss: 2.0322306156158447\n",
      "Step 5000, Loss: 1.7779757976531982\n",
      "Step 10000, Loss: 1.8471745252609253\n",
      "Step 15000, Loss: 1.811324119567871\n",
      "Step 20000, Loss: 1.784348726272583\n",
      "Step 25000, Loss: 1.8055344820022583\n",
      "Step 30000, Loss: 1.9415019750595093\n",
      "Step 35000, Loss: 1.9460994005203247\n",
      "Step 40000, Loss: 1.8450747728347778\n",
      "Step 45000, Loss: 1.8386393785476685\n"
     ]
    }
   ],
   "source": [
    "for i in range(50000):\n",
    "  \n",
    "    # minibatch construct\n",
    "    ix = torch.randint(0, X_train.shape[0], (200,))\n",
    "    \n",
    "    # forward pass\n",
    "    emb = C[X_train[ix]]  # Ensure minibatch size is correct\n",
    "    h = torch.tanh(emb.view(-1, 30) @ w1 + b1)  # (200, 500)\n",
    "    logits = h @ w2 + b2  # (200, 100)\n",
    "    logits = logits @ w3 + b3  # Final layer (200, 28)\n",
    "    loss = F.cross_entropy(logits, y_train[ix])  # Cross-entropy loss\n",
    "    if i % 5000 == 0:\n",
    "        print(f\"Step {i}, Loss: {loss.item()}\")\n",
    "    # backward pass\n",
    "    for p in parameters:\n",
    "        p.grad = None\n",
    "    loss.backward()\n",
    "    \n",
    "    # update\n",
    "    lr = 0.001\n",
    "    for p in parameters:\n",
    "        p.data += -lr * p.grad\n",
    "        \n",
    "\n"
   ]
  },
  {
   "cell_type": "code",
   "execution_count": 25,
   "metadata": {},
   "outputs": [
    {
     "data": {
      "image/png": "[encoded data removed]",
      "text/plain": [
       "<Figure size 2000x1000 with 2 Axes>"
      ]
     },
     "metadata": {},
     "output_type": "display_data"
    }
   ],
   "source": [
    "plt.figure(figsize=(20, 10), dpi=100)  # Increase DPI for better resolution\n",
    "plt.imshow(h.abs() > 0.99, cmap='gray', interpolation='nearest', aspect='auto')  # Set aspect to auto\n",
    "plt.colorbar()\n",
    "plt.show()\n"
   ]
  },
  {
   "cell_type": "code",
   "execution_count": 28,
   "metadata": {},
   "outputs": [
    {
     "name": "stdout",
     "output_type": "stream",
     "text": [
      "dhika.\n",
      "aash mwendra.\n",
      "shand kumari lha.\n",
      "priya.\n",
      "munita.\n",
      "rajesh.\n",
      "mika.\n",
      "dishmrita.\n",
      "rajesh saireena.\n",
      "sunaradeesh lal.\n",
      "kitwal.\n",
      "preesh.\n",
      "rosh.\n",
      "raj khanikhan kumaren.\n",
      "samadanishi.\n",
      "adul.\n",
      "faran larma.\n",
      "kirshal.\n",
      "kumari.\n",
      "rajender.\n",
      "kar.\n",
      "pootna bajrish chaudh kumar pan shakari poon sona khand il kumar.\n",
      "bip kujam.\n",
      "aartila singh.\n",
      "jaesh man sinwari bhurjhi.\n",
      "sar.\n",
      "rina mahadak.\n",
      "mohapsrajoly .\n",
      "ajiya.\n",
      "sugan vijayakalalya sakshari.\n",
      "meem  kir mani.\n",
      "geitharmelyan.\n",
      "jayna kumarinakma banla khati.\n",
      "kumar.\n",
      "pamali gurgreena mahia bhashakir singh.\n",
      "guli.\n",
      "manth.\n",
      "kumash.\n",
      "abdul kumari wo jay  gupta.\n",
      "smt davbi.\n",
      "narojya.\n",
      "gull.\n",
      "naipursharuna lal.\n",
      "anki kana.\n",
      "girpal.\n",
      "ghoon.\n",
      "san  kumar.\n",
      "smt singh rasvara.\n",
      "jan.\n",
      "surejesh cke.\n",
      "yogi.\n",
      "sanjassunak.\n",
      "sanj.\n",
      "reola.\n",
      "shad singh  gupta.\n",
      "nazda.\n",
      "riti.\n",
      "aiswal malam.\n",
      "ash vurnil sajeet singh.\n",
      "neena priya.\n",
      "bed.\n",
      "chandar.\n",
      "meha pal sasharma.\n",
      "abdulta.\n",
      "subha dasbanoj vendar.\n",
      "mahila.\n",
      "shyam.\n",
      "neeram.\n",
      "sarima.\n",
      "meet.\n",
      "mam.\n",
      "sena.\n",
      "bes geepal.\n",
      "abha.\n",
      "ku pal.\n",
      "sondv tarvi kumari shak.\n",
      "divano.\n",
      "harmil nati sahgafumar.\n",
      "hagi.\n",
      "ravi devi.\n",
      "jati kumarun bana.\n",
      "banakhankar.\n",
      "sher.\n",
      "manjay sinju.\n",
      "mistab.\n",
      "robu shandalyan.\n",
      "hiva.\n",
      "vikshimakhan.\n",
      "smt rana.\n",
      "yaginr.\n",
      "sunder.\n",
      "nishikrasharma.\n",
      "jhinesh.\n",
      "rassanwar muskan mata dev.\n",
      "gorena mayakashahurajahmpreema palshagdwah.\n",
      "avita.\n",
      "terchant shyamal.\n",
      "sarender di un.\n",
      "arun.\n",
      "atra pait.\n"
     ]
    }
   ],
   "source": [
    "g = torch.Generator().manual_seed(6 + 10)\n",
    "\n",
    "for _ in range(100):\n",
    "    \n",
    "    out = []\n",
    "    context = [0] * block_size # initialize with all ...\n",
    "    while True:\n",
    "      emb = C[torch.tensor([context])] # (1,block_size,d)\n",
    "      h = torch.tanh(emb.view(1, -1) @ w1 + b1)\n",
    "      logits = h @ w2 + b2\n",
    "      logits_last = logits @ w3 + b3\n",
    "      probs = F.softmax(logits_last, dim=1)\n",
    "      ix = torch.multinomial(probs, num_samples=1, generator=g).item()\n",
    "      context = context[1:] + [ix]\n",
    "      out.append(ix)\n",
    "      if ix == 0:\n",
    "        break\n",
    "    \n",
    "    print(''.join(itos[i] for i in out))"
   ]
  }
 ],
 "metadata": {
  "kernelspec": {
   "display_name": ".venv",
   "language": "python",
   "name": "python3"
  },
  "language_info": {
   "codemirror_mode": {
    "name": "ipython",
    "version": 3
   },
   "file_extension": ".py",
   "mimetype": "text/x-python",
   "name": "python",
   "nbconvert_exporter": "python",
   "pygments_lexer": "ipython3",
   "version": "3.12.6"
  }
 },
 "nbformat": 4,
 "nbformat_minor": 2
}
